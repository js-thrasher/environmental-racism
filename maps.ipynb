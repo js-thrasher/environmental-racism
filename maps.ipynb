{
  "cells": [
    {
      "cell_type": "code",
      "execution_count": null,
      "metadata": {
        "id": "SSl7DPdD9dRO"
      },
      "outputs": [],
      "source": [
        "!pip install -q leafmap\n",
        "!pip install -q geopandas"
      ]
    },
    {
      "cell_type": "code",
      "execution_count": null,
      "metadata": {
        "id": "w1fBFgJ-9jWI"
      },
      "outputs": [],
      "source": [
        "import pandas as pd\n",
        "import leafmap.foliumap as leafmap\n",
        "import geopandas\n",
        "import numpy as np\n",
        "\n",
        "from google.colab import drive\n",
        "drive.mount('/content/drive')"
      ]
    },
    {
      "cell_type": "code",
      "execution_count": null,
      "metadata": {
        "id": "qXaz5_xUwmJA"
      },
      "outputs": [],
      "source": [
        "import re\n",
        "\n",
        "def make_numeric(s):\n",
        "  return re.sub('[^0-9.-]', '', s)\n",
        "\n",
        "def make_useful_string(s):\n",
        "  return re.sub('[^:print:]', '', s)"
      ]
    },
    {
      "cell_type": "code",
      "execution_count": null,
      "metadata": {
        "id": "k1zy45fsFbNT"
      },
      "outputs": [],
      "source": [
        "tox = pd.read_csv('/content/drive/MyDrive/Colab Notebooks/arch_ai_final_project/datasets/toxic_sites.xlsx - Sheet1.csv')"
      ]
    },
    {
      "cell_type": "code",
      "execution_count": null,
      "metadata": {
        "id": "9v_xx_9EuvRA"
      },
      "outputs": [],
      "source": [
        "tox['Name'] = tox['Site Name'].astype(np.str)\n",
        "tox['City'] = tox['City'].astype(np.str)\n",
        "tox['Zip'] = tox['Zip'].astype(np.str)\n",
        "tox['County'] = tox['County'].astype(np.str)\n",
        "tox['Site ID'] = (tox.apply(lambda x: make_numeric(x['Site ID']), axis=1)).astype(np.int32)\n",
        "tox['Latitude'] = (tox.apply(lambda x: make_numeric(x['Latitude']), axis=1)).astype(np.float64)\n",
        "tox['Longitude'] = (tox.apply(lambda x: make_numeric(x['Longitude']), axis=1)).astype(np.float64)\n",
        "\n",
        "\n",
        "new_tox = tox.drop(columns=['Region', 'State', 'Unnamed: 4', 'EPA ID', 'Address', 'FF Ind', 'NAI', 'Native American Entity ', 'lat', 'lat1', 'long1', 'long'], axis=1)"
      ]
    },
    {
      "cell_type": "code",
      "source": [
        "import json\n",
        "\n",
        "pollution = geopandas.GeoDataFrame.from_features(json.load(open('/content/drive/MyDrive/Colab Notebooks/arch_ai_final_project/datasets/worldwide-pollution.geojson')))"
      ],
      "metadata": {
        "id": "_sPrCEnWtEiI"
      },
      "execution_count": null,
      "outputs": []
    },
    {
      "cell_type": "code",
      "source": [
        "pollution['latitude'] = pollution.apply(lambda x: x['geopoint'][0], axis=1).astype(np.float64)\n",
        "pollution['longitude'] = pollution.apply(lambda x: x['geopoint'][1], axis=1).astype(np.float64)\n",
        "pollution['value_no2'] = pollution['value_no2'].astype(np.float64)\n",
        "pollution['value_o3'] = pollution['value_o3'].astype(np.float64)\n",
        "pollution['value_co'] = pollution['value_co'].astype(np.float64)\n",
        "\n",
        "no2 = pollution[['value_no2', 'latitude', 'longitude']]\n",
        "o3 = pollution[['value_o3', 'latitude', 'longitude']]\n",
        "co = pollution[['value_co', 'latitude', 'longitude']]"
      ],
      "metadata": {
        "id": "V7-yvMgGtMbo"
      },
      "execution_count": null,
      "outputs": []
    },
    {
      "cell_type": "code",
      "execution_count": null,
      "metadata": {
        "id": "1TJqjKiMJ9AI"
      },
      "outputs": [],
      "source": [
        "def crs(gdf):\n",
        "  gdf.set_crs(epsg=4326, inplace=True)\n",
        "  return gdf.to_crs(epsg=4326)\n",
        "\n",
        "def colorize(feature):\n",
        "  grade = feature['holc_grade']\n",
        "  color = 'ff0000'\n",
        "  if grade == 'A':\n",
        "    color = '00ff00'\n",
        "  elif grade == 'B':\n",
        "    color = '0000ff'\n",
        "  elif grade == 'C':\n",
        "    color = 'ffff00'\n",
        "  return {'fillColor' : color}"
      ]
    },
    {
      "cell_type": "code",
      "execution_count": null,
      "metadata": {
        "id": "F9Yhagg3_UFN"
      },
      "outputs": [],
      "source": [
        "redlining_geo = '/content/drive/MyDrive/Colab Notebooks/arch_ai_final_project/datasets/redlining_map.geojson'\n",
        "toxic_sites_geo = crs(geopandas.GeoDataFrame(new_tox, geometry=geopandas.points_from_xy(new_tox['Longitude'], new_tox['Latitude'])))\n",
        "lead_geo = '/content/drive/MyDrive/Colab Notebooks/arch_ai_final_project/datasets/lead.csv'\n",
        "world = leafmap.Map()\n"
      ]
    },
    {
      "cell_type": "code",
      "execution_count": null,
      "metadata": {
        "id": "p9tYY9pOGgc-"
      },
      "outputs": [],
      "source": [
        "world.add_geojson(redlining_geo, layer_name='Redlined Districts')\n",
        "world.add_gdf(toxic_sites_geo, layer_name='Toxic Sites')\n",
        "world.add_heatmap(no2, latitude='latitude', longitude='longitude', value='value_no2',  name='NO2 Pollution')\n",
        "world.add_heatmap(o3, latitude='latitude', longitude='longitude', value='value_o3',  name='O3 Pollution')\n",
        "world.add_heatmap(co, latitude='latitude', longitude='longitude', value='value_co',  name='CO Pollution')\n",
        "\n",
        "world.add_heatmap(lead_geo, latitude='Latitude', longitude='Longitude', value='Pb Content (mg/kg)', name='Lead Pollution Levels')"
      ]
    },
    {
      "cell_type": "code",
      "execution_count": null,
      "metadata": {
        "id": "KaFhgFp2AX6_"
      },
      "outputs": [],
      "source": [
        "world.to_html(\"world.html\")"
      ]
    },
    {
      "cell_type": "code",
      "source": [
        ""
      ],
      "metadata": {
        "id": "ryIayGXsHOLJ"
      },
      "execution_count": null,
      "outputs": []
    }
  ],
  "metadata": {
    "colab": {
      "collapsed_sections": [],
      "name": "maps.ipynb",
      "provenance": []
    },
    "kernelspec": {
      "display_name": "Python 3",
      "name": "python3"
    },
    "language_info": {
      "name": "python"
    }
  },
  "nbformat": 4,
  "nbformat_minor": 0
}